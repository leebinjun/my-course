{
 "cells": [
  {
   "cell_type": "code",
   "execution_count": 2,
   "metadata": {
    "collapsed": true
   },
   "outputs": [],
   "source": [
    "def parse_date(raw_date):\n",
    "    entry_date = raw_date.decode(\"gbk\")\n",
    "    month = int(entry_date[0])\n",
    "    if len(entry_date) == 5:\n",
    "        day = 10 * int(entry_date[2]) + int(entry_date[3])\n",
    "    else:\n",
    "        day = int(entry_date[2])\n",
    "    return 2013, month, day"
   ]
  },
  {
   "cell_type": "code",
   "execution_count": 6,
   "metadata": {},
   "outputs": [
    {
     "ename": "SyntaxError",
     "evalue": "invalid syntax (<ipython-input-6-ac84e59a39ce>, line 15)",
     "output_type": "error",
     "traceback": [
      "\u001b[1;36m  File \u001b[1;32m\"<ipython-input-6-ac84e59a39ce>\"\u001b[1;36m, line \u001b[1;32m15\u001b[0m\n\u001b[1;33m    validation.write(\"99999999999,9\" + \"\\n\")\u001b[0m\n\u001b[1;37m             ^\u001b[0m\n\u001b[1;31mSyntaxError\u001b[0m\u001b[1;31m:\u001b[0m invalid syntax\n"
     ]
    }
   ],
   "source": [
    "def split_file(raw_file, seperate_day, begin_date):\n",
    "    train = open(\"train.csv\", \"w\")\n",
    "    validation = open(\"validation.csv\", \"w\")\n",
    "    raw_file.readline()\n",
    "    for line in raw_file.readlines():\n",
    "        line = line.strip()\n",
    "        entry = line.split(\",\")\n",
    "        entry_date = date(*parse_date(entry[3]))\n",
    "        date_delta = (entry_date - begin_date).days\n",
    "        if date_delta < seperate_day:\n",
    "            train.write(\",\".join(entry[:3]) + \",\" + str(date_delta) + \"\\n\")\n",
    "        elif int(entry[2]) == 1:\n",
    "            validation.write(\",\".join(entry[:2]) + \"\\n\")\n",
    "            print ((\",\").join(entry[:2])\n",
    "    temp = \"99999999999,9\\n\"\n",
    "    validation.write(temp)\n",
    "    train.close()\n",
    "    validation.close()"
   ]
  },
  {
   "cell_type": "code",
   "execution_count": null,
   "metadata": {
    "collapsed": true
   },
   "outputs": [],
   "source": []
  }
 ],
 "metadata": {
  "kernelspec": {
   "display_name": "Python 3",
   "language": "python",
   "name": "python3"
  },
  "language_info": {
   "codemirror_mode": {
    "name": "ipython",
    "version": 3
   },
   "file_extension": ".py",
   "mimetype": "text/x-python",
   "name": "python",
   "nbconvert_exporter": "python",
   "pygments_lexer": "ipython3",
   "version": "3.6.3"
  }
 },
 "nbformat": 4,
 "nbformat_minor": 2
}
