{
 "cells": [
  {
   "cell_type": "code",
   "execution_count": 2,
   "metadata": {
    "collapsed": true
   },
   "outputs": [],
   "source": [
    "def parse_date(raw_date):\n",
    "    entry_date = raw_date.decode(\"gbk\")\n",
    "    month = int(entry_date[0])\n",
    "    if len(entry_date) == 5:\n",
    "        day = 10 * int(entry_date[2]) + int(entry_date[3])\n",
    "    else:\n",
    "        day = int(entry_date[2])\n",
    "    return 2013, month, day"
   ]
  },
  {
   "cell_type": "code",
   "execution_count": 16,
   "metadata": {},
   "outputs": [],
   "source": [
    "def split_file(raw_file, seperate_day, begin_date):\n",
    "    train = open(\"train.csv\", \"w\")\n",
    "    validation = open(\"validation.csv\", \"w\")\n",
    "    raw_file.readline()\n",
    "    for line in raw_file.readlines():\n",
    "        line = line.strip()\n",
    "        entry = line.split(\",\")\n",
    "        entry_date = date(*parse_date(entry[3]))\n",
    "        date_delta = (entry_date - begin_date).days\n",
    "        if date_delta < seperate_day:\n",
    "            train.write(\",\".join(entry[:3]) + \",\" + str(date_delta) + \"\\n\")\n",
    "        elif int(entry[2]) == 1:\n",
    "            validation.write(\",\".join(entry[:2]) + \"\\n\")\n",
    "            print (\",\").join(entry[:2])\n",
    "    validation.write(\"99999999999,9\" + \"\\n\")\n",
    "    train.close()\n",
    "    validation.close()"
   ]
  },
  {
   "cell_type": "code",
   "execution_count": 23,
   "metadata": {
    "collapsed": true
   },
   "outputs": [],
   "source": [
    "def generate_result(validation):\n",
    "    entrys = validation.readlines()\n",
    "    entrys.sort(key=lambda x: x.split(\",\")[0])\n",
    "    result = open(\"result.txt\", \"w\")\n",
    "    for index, entry in enumerate(entrys):\n",
    "        uid, tid = entry.strip().split(\",\")\n",
    "        if index == 0:\n",
    "            cur_id = uid\n",
    "            cur_result = [tid]\n",
    "        elif uid == cur_id:\n",
    "            cur_result.append(tid)\n",
    "        else:\n",
    "            result.write(cur_id + \"\\t\" + \",\".join(set(cur_result)) + \"\\n\")\n",
    "            cur_id = uid\n",
    "            cur_result = [tid]\n",
    "    result.close()\n"
   ]
  },
  {
   "cell_type": "code",
   "execution_count": 22,
   "metadata": {
    "scrolled": true
   },
   "outputs": [
    {
     "ename": "NameError",
     "evalue": "name 'date' is not defined",
     "output_type": "error",
     "traceback": [
      "\u001b[1;31m---------------------------------------------------------------------------\u001b[0m",
      "\u001b[1;31mNameError\u001b[0m                                 Traceback (most recent call last)",
      "\u001b[1;32m<ipython-input-22-20f29606938f>\u001b[0m in \u001b[0;36m<module>\u001b[1;34m()\u001b[0m\n\u001b[1;32m----> 1\u001b[1;33m \u001b[0mSEPERATEDAY\u001b[0m \u001b[1;33m=\u001b[0m \u001b[0mdate\u001b[0m\u001b[1;33m(\u001b[0m\u001b[1;36m2013\u001b[0m\u001b[1;33m,\u001b[0m \u001b[1;36m7\u001b[0m\u001b[1;33m,\u001b[0m \u001b[1;36m15\u001b[0m\u001b[1;33m)\u001b[0m\u001b[1;33m\u001b[0m\u001b[0m\n\u001b[0m\u001b[0;32m      2\u001b[0m \u001b[0mBEGINDAY\u001b[0m \u001b[1;33m=\u001b[0m \u001b[0mdate\u001b[0m\u001b[1;33m(\u001b[0m\u001b[1;36m2013\u001b[0m\u001b[1;33m,\u001b[0m \u001b[1;36m4\u001b[0m\u001b[1;33m,\u001b[0m \u001b[1;36m15\u001b[0m\u001b[1;33m)\u001b[0m\u001b[1;33m\u001b[0m\u001b[0m\n\u001b[0;32m      3\u001b[0m \u001b[0mraw_file\u001b[0m \u001b[1;33m=\u001b[0m \u001b[0mopen\u001b[0m\u001b[1;33m(\u001b[0m\u001b[1;34m\"t_alibaba_data.csv\"\u001b[0m\u001b[1;33m)\u001b[0m\u001b[1;33m\u001b[0m\u001b[0m\n\u001b[0;32m      4\u001b[0m \u001b[0msplit_file\u001b[0m\u001b[1;33m(\u001b[0m\u001b[0mraw_file\u001b[0m\u001b[1;33m,\u001b[0m \u001b[1;33m(\u001b[0m\u001b[0mSEPERATEDAY\u001b[0m \u001b[1;33m-\u001b[0m \u001b[0mBEGINDAY\u001b[0m\u001b[1;33m)\u001b[0m\u001b[1;33m.\u001b[0m\u001b[0mdays\u001b[0m\u001b[1;33m,\u001b[0m \u001b[0mBEGINDAY\u001b[0m\u001b[1;33m)\u001b[0m\u001b[1;33m\u001b[0m\u001b[0m\n\u001b[0;32m      5\u001b[0m \u001b[0mraw_file\u001b[0m\u001b[1;33m.\u001b[0m\u001b[0mclose\u001b[0m\u001b[1;33m(\u001b[0m\u001b[1;33m)\u001b[0m\u001b[1;33m\u001b[0m\u001b[0m\n",
      "\u001b[1;31mNameError\u001b[0m: name 'date' is not defined"
     ]
    }
   ],
   "source": [
    "SEPERATEDAY = date(2013, 7, 15)\n",
    "BEGINDAY = date(2013, 4, 15)\n",
    "raw_file = open(\"t_alibaba_data.csv\")\n",
    "split_file(raw_file, (SEPERATEDAY - BEGINDAY).days, BEGINDAY)\n",
    "raw_file.close()\n",
    "validation = open(\"validation.csv\")\n",
    "generate_result(validation)"
   ]
  },
  {
   "cell_type": "code",
   "execution_count": 27,
   "metadata": {},
   "outputs": [
    {
     "ename": "FileNotFoundError",
     "evalue": "[Errno 2] No such file or directory: 'result'",
     "output_type": "error",
     "traceback": [
      "\u001b[1;31m---------------------------------------------------------------------------\u001b[0m",
      "\u001b[1;31mFileNotFoundError\u001b[0m                         Traceback (most recent call last)",
      "\u001b[1;32m<ipython-input-27-ffe17ac61590>\u001b[0m in \u001b[0;36m<module>\u001b[1;34m()\u001b[0m\n\u001b[0;32m      5\u001b[0m \u001b[0mbrand\u001b[0m \u001b[1;33m=\u001b[0m \u001b[1;36m0\u001b[0m\u001b[1;33m\u001b[0m\u001b[0m\n\u001b[0;32m      6\u001b[0m \u001b[0mresult\u001b[0m \u001b[1;33m=\u001b[0m \u001b[0mdefaultdict\u001b[0m\u001b[1;33m(\u001b[0m\u001b[0mset\u001b[0m\u001b[1;33m)\u001b[0m\u001b[1;33m\u001b[0m\u001b[0m\n\u001b[1;32m----> 7\u001b[1;33m \u001b[0mf\u001b[0m \u001b[1;33m=\u001b[0m \u001b[0mopen\u001b[0m\u001b[1;33m(\u001b[0m\u001b[1;34m\"result\"\u001b[0m\u001b[1;33m)\u001b[0m\u001b[1;33m\u001b[0m\u001b[0m\n\u001b[0m\u001b[0;32m      8\u001b[0m \u001b[1;32mfor\u001b[0m \u001b[0mline\u001b[0m \u001b[1;32min\u001b[0m \u001b[0mf\u001b[0m\u001b[1;33m.\u001b[0m\u001b[0mreadlines\u001b[0m\u001b[1;33m(\u001b[0m\u001b[1;33m)\u001b[0m\u001b[1;33m:\u001b[0m\u001b[1;33m\u001b[0m\u001b[0m\n\u001b[0;32m      9\u001b[0m     \u001b[0mline\u001b[0m \u001b[1;33m=\u001b[0m \u001b[0mline\u001b[0m\u001b[1;33m.\u001b[0m\u001b[0mstrip\u001b[0m\u001b[1;33m(\u001b[0m\u001b[1;33m)\u001b[0m\u001b[1;33m\u001b[0m\u001b[0m\n",
      "\u001b[1;31mFileNotFoundError\u001b[0m: [Errno 2] No such file or directory: 'result'"
     ]
    }
   ],
   "source": [
    "from collections import defaultdict\n",
    "\n",
    "predict_num = 0\n",
    "hit_num = 0\n",
    "brand = 0\n",
    "result = defaultdict(set)\n",
    "f = open(\"result\")\n",
    "for line in f.readlines():\n",
    "    line = line.strip()\n",
    "    uid, bid = line.split(\"\\t\")\n",
    "    result[uid] = bid.split(\",\")\n",
    "    brand += len(result[uid])\n",
    "f.close()\n",
    "\n",
    "\n",
    "f = open(\"predict.txt\")\n",
    "for line in f.readlines():\n",
    "    line = line.strip()\n",
    "    uid, bid = line.split(\"\\t\")\n",
    "    bid = bid.split(\",\")\n",
    "    predict_num += len(bid)\n",
    "    if uid not in result:\n",
    "        continue\n",
    "    else:\n",
    "        for i in bid:\n",
    "            if i in result[uid]:\n",
    "                hit_num += 1\n",
    "\n",
    "print (\"predict num is \"), predict_num\n",
    "print (\"hit num is \"), hit_num\n",
    "print (\"total brand is \"), brand\n",
    "\n",
    "precision = float(hit_num)/predict_num\n",
    "callrate = float(hit_num)/brand\n",
    "print (\"precision is \"), precision\n",
    "print (\"call rate is \"), callrate\n",
    "\n",
    "print (\"F1 is \"), 2*precision*callrate/(precision+callrate)"
   ]
  },
  {
   "cell_type": "code",
   "execution_count": null,
   "metadata": {
    "collapsed": true
   },
   "outputs": [],
   "source": []
  }
 ],
 "metadata": {
  "kernelspec": {
   "display_name": "Python 3",
   "language": "python",
   "name": "python3"
  },
  "language_info": {
   "codemirror_mode": {
    "name": "ipython",
    "version": 3
   },
   "file_extension": ".py",
   "mimetype": "text/x-python",
   "name": "python",
   "nbconvert_exporter": "python",
   "pygments_lexer": "ipython3",
   "version": "3.6.3"
  }
 },
 "nbformat": 4,
 "nbformat_minor": 2
}
